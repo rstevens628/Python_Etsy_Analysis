{
 "cells": [
  {
   "cell_type": "markdown",
   "metadata": {},
   "source": [
    "## 6.4 Machine Learning Part 1"
   ]
  },
  {
   "cell_type": "markdown",
   "metadata": {},
   "source": [
    "### This script contains the following:\n",
    "\n",
    "#### 1. Importing libraries and data\n",
    "#### 2. Data cleaning\n",
    "#### 3. Data prep for regression analysis\n",
    "#### 4. Regression analysis\n",
    "#### Bonus: performance improvement after removing outliers"
   ]
  },
  {
   "cell_type": "markdown",
   "metadata": {},
   "source": [
    "### 1. Importing libraries and data"
   ]
  },
  {
   "cell_type": "code",
   "execution_count": 1,
   "metadata": {},
   "outputs": [],
   "source": [
    "import pandas as pd\n",
    "import numpy as np\n",
    "import seaborn as sns\n",
    "import matplotlib\n",
    "import matplotlib.pyplot as plt\n",
    "import os\n",
    "import sklearn\n",
    "from sklearn.model_selection import train_test_split \n",
    "from sklearn.linear_model import LinearRegression\n",
    "from sklearn.metrics import mean_squared_error, r2_score"
   ]
  },
  {
   "cell_type": "code",
   "execution_count": 2,
   "metadata": {},
   "outputs": [],
   "source": [
    "# This option ensures that the graphs you create are displayed within the notebook without the need to \"call\" them specifically.\n",
    "\n",
    "%matplotlib inline"
   ]
  },
  {
   "cell_type": "code",
   "execution_count": 3,
   "metadata": {},
   "outputs": [],
   "source": [
    "path = 'C:/Users/rstev/Documents/06_22 Etsy Top 10000 Sellers'"
   ]
  },
  {
   "cell_type": "code",
   "execution_count": 4,
   "metadata": {},
   "outputs": [],
   "source": [
    "df = pd.read_csv(os.path.join(path, 'Data', 'Etsy Top Sellers Data_Prepared v3.csv'))"
   ]
  },
  {
   "cell_type": "markdown",
   "metadata": {},
   "source": [
    "### 2. Data cleaning"
   ]
  },
  {
   "cell_type": "code",
   "execution_count": 5,
   "metadata": {
    "scrolled": true
   },
   "outputs": [
    {
     "data": {
      "text/plain": [
       "Index(['Unnamed: 0', 'shop_id', 'shop_name', 'url', 'shop_create_date',\n",
       "       'month_create', 'year_create', 'shop_update_date', 'sold_count',\n",
       "       'additional_customization', 'active_listing_count', 'city', 'state',\n",
       "       'country', 'headline', 'favorites_count', 'average_rating',\n",
       "       'total_rating_count', 'average_rating_count', 'accepts_direct_checkout',\n",
       "       'accepts_paypal', 'ships_to_country_ids', 'is_eligible_free_shipping',\n",
       "       'has_min_free_shipping', 'has_free_shipping', 'ships_to_regions'],\n",
       "      dtype='object')"
      ]
     },
     "execution_count": 5,
     "metadata": {},
     "output_type": "execute_result"
    }
   ],
   "source": [
    "df.columns"
   ]
  },
  {
   "cell_type": "code",
   "execution_count": 6,
   "metadata": {
    "scrolled": true
   },
   "outputs": [
    {
     "data": {
      "text/html": [
       "<div>\n",
       "<style scoped>\n",
       "    .dataframe tbody tr th:only-of-type {\n",
       "        vertical-align: middle;\n",
       "    }\n",
       "\n",
       "    .dataframe tbody tr th {\n",
       "        vertical-align: top;\n",
       "    }\n",
       "\n",
       "    .dataframe thead th {\n",
       "        text-align: right;\n",
       "    }\n",
       "</style>\n",
       "<table border=\"1\" class=\"dataframe\">\n",
       "  <thead>\n",
       "    <tr style=\"text-align: right;\">\n",
       "      <th></th>\n",
       "      <th>Unnamed: 0</th>\n",
       "      <th>shop_id</th>\n",
       "      <th>shop_name</th>\n",
       "      <th>url</th>\n",
       "      <th>shop_create_date</th>\n",
       "      <th>month_create</th>\n",
       "      <th>year_create</th>\n",
       "      <th>shop_update_date</th>\n",
       "      <th>sold_count</th>\n",
       "      <th>additional_customization</th>\n",
       "      <th>...</th>\n",
       "      <th>average_rating</th>\n",
       "      <th>total_rating_count</th>\n",
       "      <th>average_rating_count</th>\n",
       "      <th>accepts_direct_checkout</th>\n",
       "      <th>accepts_paypal</th>\n",
       "      <th>ships_to_country_ids</th>\n",
       "      <th>is_eligible_free_shipping</th>\n",
       "      <th>has_min_free_shipping</th>\n",
       "      <th>has_free_shipping</th>\n",
       "      <th>ships_to_regions</th>\n",
       "    </tr>\n",
       "  </thead>\n",
       "  <tbody>\n",
       "    <tr>\n",
       "      <th>0</th>\n",
       "      <td>0</td>\n",
       "      <td>6923427</td>\n",
       "      <td>kawaiistickers4you</td>\n",
       "      <td>https://www.etsy.com/shop/kawaiistickers4you</td>\n",
       "      <td>5/18/2012</td>\n",
       "      <td>May</td>\n",
       "      <td>2012</td>\n",
       "      <td>1643091607</td>\n",
       "      <td>27723</td>\n",
       "      <td>False</td>\n",
       "      <td>...</td>\n",
       "      <td>1.0000</td>\n",
       "      <td>9628</td>\n",
       "      <td>1</td>\n",
       "      <td>False</td>\n",
       "      <td>True</td>\n",
       "      <td>[193, 105, 99, 129, 215, 220, 128, 103, 165, 1...</td>\n",
       "      <td>True</td>\n",
       "      <td>True</td>\n",
       "      <td>True</td>\n",
       "      <td>NaN</td>\n",
       "    </tr>\n",
       "    <tr>\n",
       "      <th>1</th>\n",
       "      <td>1</td>\n",
       "      <td>5242648</td>\n",
       "      <td>JustForMeSewing</td>\n",
       "      <td>https://www.etsy.com/shop/JustForMeSewing</td>\n",
       "      <td>10/4/2010</td>\n",
       "      <td>October</td>\n",
       "      <td>2010</td>\n",
       "      <td>1632363895</td>\n",
       "      <td>39900</td>\n",
       "      <td>False</td>\n",
       "      <td>...</td>\n",
       "      <td>5.0000</td>\n",
       "      <td>5470</td>\n",
       "      <td>1</td>\n",
       "      <td>True</td>\n",
       "      <td>False</td>\n",
       "      <td>[209, 0, 79, 123, 61, 220]</td>\n",
       "      <td>True</td>\n",
       "      <td>True</td>\n",
       "      <td>True</td>\n",
       "      <td>NaN</td>\n",
       "    </tr>\n",
       "    <tr>\n",
       "      <th>2</th>\n",
       "      <td>2</td>\n",
       "      <td>5593341</td>\n",
       "      <td>SwellAndGrand</td>\n",
       "      <td>https://www.etsy.com/shop/SwellAndGrand</td>\n",
       "      <td>10/4/2010</td>\n",
       "      <td>October</td>\n",
       "      <td>2010</td>\n",
       "      <td>1640184600</td>\n",
       "      <td>33696</td>\n",
       "      <td>False</td>\n",
       "      <td>...</td>\n",
       "      <td>5.0000</td>\n",
       "      <td>4595</td>\n",
       "      <td>1</td>\n",
       "      <td>True</td>\n",
       "      <td>False</td>\n",
       "      <td>[0, 209]</td>\n",
       "      <td>True</td>\n",
       "      <td>True</td>\n",
       "      <td>True</td>\n",
       "      <td>NaN</td>\n",
       "    </tr>\n",
       "    <tr>\n",
       "      <th>3</th>\n",
       "      <td>3</td>\n",
       "      <td>6441254</td>\n",
       "      <td>PrettyThingsSupplies</td>\n",
       "      <td>https://www.etsy.com/shop/PrettyThingsSupplies</td>\n",
       "      <td>7/30/2011</td>\n",
       "      <td>July</td>\n",
       "      <td>2011</td>\n",
       "      <td>1647391292</td>\n",
       "      <td>29155</td>\n",
       "      <td>False</td>\n",
       "      <td>...</td>\n",
       "      <td>5.0000</td>\n",
       "      <td>7851</td>\n",
       "      <td>1</td>\n",
       "      <td>True</td>\n",
       "      <td>False</td>\n",
       "      <td>[79, 105, 93, 103, 61, 123, 91, 209, 0, 193, 1...</td>\n",
       "      <td>True</td>\n",
       "      <td>True</td>\n",
       "      <td>True</td>\n",
       "      <td>NaN</td>\n",
       "    </tr>\n",
       "    <tr>\n",
       "      <th>4</th>\n",
       "      <td>4</td>\n",
       "      <td>6176258</td>\n",
       "      <td>KangarooCare</td>\n",
       "      <td>https://www.etsy.com/shop/KangarooCare</td>\n",
       "      <td>1/17/2011</td>\n",
       "      <td>January</td>\n",
       "      <td>2011</td>\n",
       "      <td>1647708638</td>\n",
       "      <td>25779</td>\n",
       "      <td>True</td>\n",
       "      <td>...</td>\n",
       "      <td>5.0000</td>\n",
       "      <td>3975</td>\n",
       "      <td>1</td>\n",
       "      <td>True</td>\n",
       "      <td>False</td>\n",
       "      <td>[131, 191, 148, 189, 145, 165, 118, 100, 272, ...</td>\n",
       "      <td>True</td>\n",
       "      <td>True</td>\n",
       "      <td>True</td>\n",
       "      <td>NaN</td>\n",
       "    </tr>\n",
       "    <tr>\n",
       "      <th>5</th>\n",
       "      <td>5</td>\n",
       "      <td>7986540</td>\n",
       "      <td>thatchandthistleco</td>\n",
       "      <td>https://www.etsy.com/shop/thatchandthistleco</td>\n",
       "      <td>3/28/2013</td>\n",
       "      <td>March</td>\n",
       "      <td>2013</td>\n",
       "      <td>1632495085</td>\n",
       "      <td>27298</td>\n",
       "      <td>False</td>\n",
       "      <td>...</td>\n",
       "      <td>3.0000</td>\n",
       "      <td>5194</td>\n",
       "      <td>2</td>\n",
       "      <td>True</td>\n",
       "      <td>False</td>\n",
       "      <td>[291, 164, 180, 89, 69, 0, 165, 167, 146, 112,...</td>\n",
       "      <td>True</td>\n",
       "      <td>False</td>\n",
       "      <td>True</td>\n",
       "      <td>['US']</td>\n",
       "    </tr>\n",
       "    <tr>\n",
       "      <th>6</th>\n",
       "      <td>6</td>\n",
       "      <td>7968194</td>\n",
       "      <td>MelindaWoodDesigns</td>\n",
       "      <td>https://www.etsy.com/shop/MelindaWoodDesigns</td>\n",
       "      <td>3/23/2013</td>\n",
       "      <td>March</td>\n",
       "      <td>2013</td>\n",
       "      <td>1648747603</td>\n",
       "      <td>47118</td>\n",
       "      <td>False</td>\n",
       "      <td>...</td>\n",
       "      <td>4.5000</td>\n",
       "      <td>3116</td>\n",
       "      <td>2</td>\n",
       "      <td>True</td>\n",
       "      <td>False</td>\n",
       "      <td>[79, 209, 0]</td>\n",
       "      <td>False</td>\n",
       "      <td>False</td>\n",
       "      <td>False</td>\n",
       "      <td>['ANY']</td>\n",
       "    </tr>\n",
       "    <tr>\n",
       "      <th>7</th>\n",
       "      <td>7</td>\n",
       "      <td>7009013</td>\n",
       "      <td>Backtozero</td>\n",
       "      <td>https://www.etsy.com/shop/Backtozero</td>\n",
       "      <td>6/20/2012</td>\n",
       "      <td>June</td>\n",
       "      <td>2012</td>\n",
       "      <td>1647344360</td>\n",
       "      <td>45931</td>\n",
       "      <td>False</td>\n",
       "      <td>...</td>\n",
       "      <td>5.0000</td>\n",
       "      <td>8869</td>\n",
       "      <td>2</td>\n",
       "      <td>True</td>\n",
       "      <td>False</td>\n",
       "      <td>[89, 79, 121, 62, 146, 172, 159, 61, 167, 105,...</td>\n",
       "      <td>True</td>\n",
       "      <td>True</td>\n",
       "      <td>True</td>\n",
       "      <td>NaN</td>\n",
       "    </tr>\n",
       "    <tr>\n",
       "      <th>8</th>\n",
       "      <td>8</td>\n",
       "      <td>15433347</td>\n",
       "      <td>GetItCreations</td>\n",
       "      <td>https://www.etsy.com/shop/GetItCreations</td>\n",
       "      <td>6/25/2017</td>\n",
       "      <td>June</td>\n",
       "      <td>2017</td>\n",
       "      <td>1648376639</td>\n",
       "      <td>27641</td>\n",
       "      <td>False</td>\n",
       "      <td>...</td>\n",
       "      <td>5.0000</td>\n",
       "      <td>3213</td>\n",
       "      <td>2</td>\n",
       "      <td>True</td>\n",
       "      <td>False</td>\n",
       "      <td>[220, 219, 61, 105, 204, 164, 131, 91, 172, 0,...</td>\n",
       "      <td>True</td>\n",
       "      <td>True</td>\n",
       "      <td>True</td>\n",
       "      <td>NaN</td>\n",
       "    </tr>\n",
       "    <tr>\n",
       "      <th>9</th>\n",
       "      <td>9</td>\n",
       "      <td>14302048</td>\n",
       "      <td>TickledPinkPlanning</td>\n",
       "      <td>https://www.etsy.com/shop/TickledPinkPlanning</td>\n",
       "      <td>12/28/2016</td>\n",
       "      <td>December</td>\n",
       "      <td>2016</td>\n",
       "      <td>1579425889</td>\n",
       "      <td>27086</td>\n",
       "      <td>False</td>\n",
       "      <td>...</td>\n",
       "      <td>5.0000</td>\n",
       "      <td>6978</td>\n",
       "      <td>2</td>\n",
       "      <td>True</td>\n",
       "      <td>False</td>\n",
       "      <td>[103, 220, 177, 165, 74, 167, 172, 142, 181, 6...</td>\n",
       "      <td>True</td>\n",
       "      <td>True</td>\n",
       "      <td>True</td>\n",
       "      <td>NaN</td>\n",
       "    </tr>\n",
       "    <tr>\n",
       "      <th>10</th>\n",
       "      <td>10</td>\n",
       "      <td>5246514</td>\n",
       "      <td>FabricShoppe</td>\n",
       "      <td>https://www.etsy.com/shop/FabricShoppe</td>\n",
       "      <td>9/3/2010</td>\n",
       "      <td>September</td>\n",
       "      <td>2010</td>\n",
       "      <td>1646416841</td>\n",
       "      <td>109646</td>\n",
       "      <td>False</td>\n",
       "      <td>...</td>\n",
       "      <td>3.6667</td>\n",
       "      <td>41974</td>\n",
       "      <td>3</td>\n",
       "      <td>True</td>\n",
       "      <td>False</td>\n",
       "      <td>[90, 123, 144, 79, 105, 65, 145, 227, 61, 89, ...</td>\n",
       "      <td>True</td>\n",
       "      <td>False</td>\n",
       "      <td>True</td>\n",
       "      <td>['ANY']</td>\n",
       "    </tr>\n",
       "    <tr>\n",
       "      <th>11</th>\n",
       "      <td>11</td>\n",
       "      <td>18087745</td>\n",
       "      <td>MagicStarsPhoto</td>\n",
       "      <td>https://www.etsy.com/shop/MagicStarsPhoto</td>\n",
       "      <td>7/11/2018</td>\n",
       "      <td>July</td>\n",
       "      <td>2018</td>\n",
       "      <td>1648943419</td>\n",
       "      <td>24573</td>\n",
       "      <td>False</td>\n",
       "      <td>...</td>\n",
       "      <td>5.0000</td>\n",
       "      <td>943</td>\n",
       "      <td>3</td>\n",
       "      <td>True</td>\n",
       "      <td>False</td>\n",
       "      <td>[0]</td>\n",
       "      <td>False</td>\n",
       "      <td>False</td>\n",
       "      <td>False</td>\n",
       "      <td>['ANY']</td>\n",
       "    </tr>\n",
       "    <tr>\n",
       "      <th>12</th>\n",
       "      <td>12</td>\n",
       "      <td>11665087</td>\n",
       "      <td>PlanningRoses</td>\n",
       "      <td>https://www.etsy.com/shop/PlanningRoses</td>\n",
       "      <td>9/11/2015</td>\n",
       "      <td>September</td>\n",
       "      <td>2015</td>\n",
       "      <td>1645592420</td>\n",
       "      <td>68631</td>\n",
       "      <td>False</td>\n",
       "      <td>...</td>\n",
       "      <td>5.0000</td>\n",
       "      <td>25600</td>\n",
       "      <td>3</td>\n",
       "      <td>True</td>\n",
       "      <td>False</td>\n",
       "      <td>[0, 79, 209]</td>\n",
       "      <td>True</td>\n",
       "      <td>True</td>\n",
       "      <td>True</td>\n",
       "      <td>NaN</td>\n",
       "    </tr>\n",
       "    <tr>\n",
       "      <th>13</th>\n",
       "      <td>13</td>\n",
       "      <td>6258194</td>\n",
       "      <td>SeasideSupplies</td>\n",
       "      <td>https://www.etsy.com/shop/SeasideSupplies</td>\n",
       "      <td>3/15/2011</td>\n",
       "      <td>March</td>\n",
       "      <td>2011</td>\n",
       "      <td>1648484049</td>\n",
       "      <td>24042</td>\n",
       "      <td>False</td>\n",
       "      <td>...</td>\n",
       "      <td>4.7500</td>\n",
       "      <td>6100</td>\n",
       "      <td>4</td>\n",
       "      <td>True</td>\n",
       "      <td>False</td>\n",
       "      <td>[99, 128, 144, 115, 123, 116, 65, 193, 79, 180...</td>\n",
       "      <td>True</td>\n",
       "      <td>True</td>\n",
       "      <td>True</td>\n",
       "      <td>NaN</td>\n",
       "    </tr>\n",
       "    <tr>\n",
       "      <th>14</th>\n",
       "      <td>14</td>\n",
       "      <td>6050112</td>\n",
       "      <td>iheartorganizing</td>\n",
       "      <td>https://www.etsy.com/shop/iheartorganizing</td>\n",
       "      <td>10/15/2010</td>\n",
       "      <td>October</td>\n",
       "      <td>2010</td>\n",
       "      <td>1648839420</td>\n",
       "      <td>47360</td>\n",
       "      <td>False</td>\n",
       "      <td>...</td>\n",
       "      <td>5.0000</td>\n",
       "      <td>4231</td>\n",
       "      <td>4</td>\n",
       "      <td>True</td>\n",
       "      <td>False</td>\n",
       "      <td>[209, 0]</td>\n",
       "      <td>False</td>\n",
       "      <td>False</td>\n",
       "      <td>False</td>\n",
       "      <td>['ANY']</td>\n",
       "    </tr>\n",
       "    <tr>\n",
       "      <th>15</th>\n",
       "      <td>15</td>\n",
       "      <td>6069666</td>\n",
       "      <td>CrochetMyLove</td>\n",
       "      <td>https://www.etsy.com/shop/CrochetMyLove</td>\n",
       "      <td>10/27/2010</td>\n",
       "      <td>October</td>\n",
       "      <td>2010</td>\n",
       "      <td>1648788992</td>\n",
       "      <td>32639</td>\n",
       "      <td>False</td>\n",
       "      <td>...</td>\n",
       "      <td>5.0000</td>\n",
       "      <td>6642</td>\n",
       "      <td>4</td>\n",
       "      <td>True</td>\n",
       "      <td>False</td>\n",
       "      <td>[79, 0, 209]</td>\n",
       "      <td>True</td>\n",
       "      <td>False</td>\n",
       "      <td>True</td>\n",
       "      <td>['US']</td>\n",
       "    </tr>\n",
       "    <tr>\n",
       "      <th>16</th>\n",
       "      <td>16</td>\n",
       "      <td>5461347</td>\n",
       "      <td>LittleRetreats</td>\n",
       "      <td>https://www.etsy.com/shop/LittleRetreats</td>\n",
       "      <td>9/3/2010</td>\n",
       "      <td>September</td>\n",
       "      <td>2010</td>\n",
       "      <td>1648663550</td>\n",
       "      <td>22911</td>\n",
       "      <td>False</td>\n",
       "      <td>...</td>\n",
       "      <td>5.0000</td>\n",
       "      <td>4553</td>\n",
       "      <td>4</td>\n",
       "      <td>True</td>\n",
       "      <td>False</td>\n",
       "      <td>[289, 175, 79, 0, 209, 105]</td>\n",
       "      <td>True</td>\n",
       "      <td>True</td>\n",
       "      <td>True</td>\n",
       "      <td>NaN</td>\n",
       "    </tr>\n",
       "    <tr>\n",
       "      <th>17</th>\n",
       "      <td>17</td>\n",
       "      <td>9586753</td>\n",
       "      <td>PrintyMamaDesigns</td>\n",
       "      <td>https://www.etsy.com/shop/PrintyMamaDesigns</td>\n",
       "      <td>6/4/2014</td>\n",
       "      <td>June</td>\n",
       "      <td>2014</td>\n",
       "      <td>1646109023</td>\n",
       "      <td>33339</td>\n",
       "      <td>False</td>\n",
       "      <td>...</td>\n",
       "      <td>4.2000</td>\n",
       "      <td>2786</td>\n",
       "      <td>5</td>\n",
       "      <td>True</td>\n",
       "      <td>False</td>\n",
       "      <td>[227, 174, 103, 123, 193, 0, 144, 128, 99, 272...</td>\n",
       "      <td>False</td>\n",
       "      <td>False</td>\n",
       "      <td>False</td>\n",
       "      <td>['ANY']</td>\n",
       "    </tr>\n",
       "    <tr>\n",
       "      <th>18</th>\n",
       "      <td>18</td>\n",
       "      <td>6115304</td>\n",
       "      <td>BabySmilesBoutique</td>\n",
       "      <td>https://www.etsy.com/shop/BabySmilesBoutique</td>\n",
       "      <td>11/30/2010</td>\n",
       "      <td>November</td>\n",
       "      <td>2010</td>\n",
       "      <td>1648170825</td>\n",
       "      <td>38050</td>\n",
       "      <td>False</td>\n",
       "      <td>...</td>\n",
       "      <td>5.0000</td>\n",
       "      <td>6971</td>\n",
       "      <td>5</td>\n",
       "      <td>True</td>\n",
       "      <td>False</td>\n",
       "      <td>[209, 79, 0, 61]</td>\n",
       "      <td>True</td>\n",
       "      <td>True</td>\n",
       "      <td>True</td>\n",
       "      <td>['ANY']</td>\n",
       "    </tr>\n",
       "    <tr>\n",
       "      <th>19</th>\n",
       "      <td>19</td>\n",
       "      <td>5741095</td>\n",
       "      <td>Hennytj</td>\n",
       "      <td>https://www.etsy.com/shop/Hennytj</td>\n",
       "      <td>9/3/2010</td>\n",
       "      <td>September</td>\n",
       "      <td>2010</td>\n",
       "      <td>1647171007</td>\n",
       "      <td>98537</td>\n",
       "      <td>False</td>\n",
       "      <td>...</td>\n",
       "      <td>5.0000</td>\n",
       "      <td>34323</td>\n",
       "      <td>5</td>\n",
       "      <td>True</td>\n",
       "      <td>False</td>\n",
       "      <td>[79, 61, 0, 209]</td>\n",
       "      <td>True</td>\n",
       "      <td>True</td>\n",
       "      <td>True</td>\n",
       "      <td>NaN</td>\n",
       "    </tr>\n",
       "  </tbody>\n",
       "</table>\n",
       "<p>20 rows × 26 columns</p>\n",
       "</div>"
      ],
      "text/plain": [
       "    Unnamed: 0   shop_id             shop_name  \\\n",
       "0            0   6923427    kawaiistickers4you   \n",
       "1            1   5242648       JustForMeSewing   \n",
       "2            2   5593341         SwellAndGrand   \n",
       "3            3   6441254  PrettyThingsSupplies   \n",
       "4            4   6176258          KangarooCare   \n",
       "5            5   7986540    thatchandthistleco   \n",
       "6            6   7968194    MelindaWoodDesigns   \n",
       "7            7   7009013            Backtozero   \n",
       "8            8  15433347        GetItCreations   \n",
       "9            9  14302048   TickledPinkPlanning   \n",
       "10          10   5246514          FabricShoppe   \n",
       "11          11  18087745       MagicStarsPhoto   \n",
       "12          12  11665087         PlanningRoses   \n",
       "13          13   6258194       SeasideSupplies   \n",
       "14          14   6050112      iheartorganizing   \n",
       "15          15   6069666         CrochetMyLove   \n",
       "16          16   5461347        LittleRetreats   \n",
       "17          17   9586753     PrintyMamaDesigns   \n",
       "18          18   6115304    BabySmilesBoutique   \n",
       "19          19   5741095               Hennytj   \n",
       "\n",
       "                                               url shop_create_date  \\\n",
       "0     https://www.etsy.com/shop/kawaiistickers4you        5/18/2012   \n",
       "1        https://www.etsy.com/shop/JustForMeSewing        10/4/2010   \n",
       "2          https://www.etsy.com/shop/SwellAndGrand        10/4/2010   \n",
       "3   https://www.etsy.com/shop/PrettyThingsSupplies        7/30/2011   \n",
       "4           https://www.etsy.com/shop/KangarooCare        1/17/2011   \n",
       "5     https://www.etsy.com/shop/thatchandthistleco        3/28/2013   \n",
       "6     https://www.etsy.com/shop/MelindaWoodDesigns        3/23/2013   \n",
       "7             https://www.etsy.com/shop/Backtozero        6/20/2012   \n",
       "8         https://www.etsy.com/shop/GetItCreations        6/25/2017   \n",
       "9    https://www.etsy.com/shop/TickledPinkPlanning       12/28/2016   \n",
       "10          https://www.etsy.com/shop/FabricShoppe         9/3/2010   \n",
       "11       https://www.etsy.com/shop/MagicStarsPhoto        7/11/2018   \n",
       "12         https://www.etsy.com/shop/PlanningRoses        9/11/2015   \n",
       "13       https://www.etsy.com/shop/SeasideSupplies        3/15/2011   \n",
       "14      https://www.etsy.com/shop/iheartorganizing       10/15/2010   \n",
       "15         https://www.etsy.com/shop/CrochetMyLove       10/27/2010   \n",
       "16        https://www.etsy.com/shop/LittleRetreats         9/3/2010   \n",
       "17     https://www.etsy.com/shop/PrintyMamaDesigns         6/4/2014   \n",
       "18    https://www.etsy.com/shop/BabySmilesBoutique       11/30/2010   \n",
       "19               https://www.etsy.com/shop/Hennytj         9/3/2010   \n",
       "\n",
       "   month_create  year_create  shop_update_date  sold_count  \\\n",
       "0           May         2012        1643091607       27723   \n",
       "1       October         2010        1632363895       39900   \n",
       "2       October         2010        1640184600       33696   \n",
       "3          July         2011        1647391292       29155   \n",
       "4       January         2011        1647708638       25779   \n",
       "5         March         2013        1632495085       27298   \n",
       "6         March         2013        1648747603       47118   \n",
       "7          June         2012        1647344360       45931   \n",
       "8          June         2017        1648376639       27641   \n",
       "9      December         2016        1579425889       27086   \n",
       "10    September         2010        1646416841      109646   \n",
       "11         July         2018        1648943419       24573   \n",
       "12    September         2015        1645592420       68631   \n",
       "13        March         2011        1648484049       24042   \n",
       "14      October         2010        1648839420       47360   \n",
       "15      October         2010        1648788992       32639   \n",
       "16    September         2010        1648663550       22911   \n",
       "17         June         2014        1646109023       33339   \n",
       "18     November         2010        1648170825       38050   \n",
       "19    September         2010        1647171007       98537   \n",
       "\n",
       "    additional_customization  ...  average_rating total_rating_count  \\\n",
       "0                      False  ...          1.0000               9628   \n",
       "1                      False  ...          5.0000               5470   \n",
       "2                      False  ...          5.0000               4595   \n",
       "3                      False  ...          5.0000               7851   \n",
       "4                       True  ...          5.0000               3975   \n",
       "5                      False  ...          3.0000               5194   \n",
       "6                      False  ...          4.5000               3116   \n",
       "7                      False  ...          5.0000               8869   \n",
       "8                      False  ...          5.0000               3213   \n",
       "9                      False  ...          5.0000               6978   \n",
       "10                     False  ...          3.6667              41974   \n",
       "11                     False  ...          5.0000                943   \n",
       "12                     False  ...          5.0000              25600   \n",
       "13                     False  ...          4.7500               6100   \n",
       "14                     False  ...          5.0000               4231   \n",
       "15                     False  ...          5.0000               6642   \n",
       "16                     False  ...          5.0000               4553   \n",
       "17                     False  ...          4.2000               2786   \n",
       "18                     False  ...          5.0000               6971   \n",
       "19                     False  ...          5.0000              34323   \n",
       "\n",
       "   average_rating_count accepts_direct_checkout accepts_paypal  \\\n",
       "0                     1                   False           True   \n",
       "1                     1                    True          False   \n",
       "2                     1                    True          False   \n",
       "3                     1                    True          False   \n",
       "4                     1                    True          False   \n",
       "5                     2                    True          False   \n",
       "6                     2                    True          False   \n",
       "7                     2                    True          False   \n",
       "8                     2                    True          False   \n",
       "9                     2                    True          False   \n",
       "10                    3                    True          False   \n",
       "11                    3                    True          False   \n",
       "12                    3                    True          False   \n",
       "13                    4                    True          False   \n",
       "14                    4                    True          False   \n",
       "15                    4                    True          False   \n",
       "16                    4                    True          False   \n",
       "17                    5                    True          False   \n",
       "18                    5                    True          False   \n",
       "19                    5                    True          False   \n",
       "\n",
       "                                 ships_to_country_ids  \\\n",
       "0   [193, 105, 99, 129, 215, 220, 128, 103, 165, 1...   \n",
       "1                          [209, 0, 79, 123, 61, 220]   \n",
       "2                                            [0, 209]   \n",
       "3   [79, 105, 93, 103, 61, 123, 91, 209, 0, 193, 1...   \n",
       "4   [131, 191, 148, 189, 145, 165, 118, 100, 272, ...   \n",
       "5   [291, 164, 180, 89, 69, 0, 165, 167, 146, 112,...   \n",
       "6                                        [79, 209, 0]   \n",
       "7   [89, 79, 121, 62, 146, 172, 159, 61, 167, 105,...   \n",
       "8   [220, 219, 61, 105, 204, 164, 131, 91, 172, 0,...   \n",
       "9   [103, 220, 177, 165, 74, 167, 172, 142, 181, 6...   \n",
       "10  [90, 123, 144, 79, 105, 65, 145, 227, 61, 89, ...   \n",
       "11                                                [0]   \n",
       "12                                       [0, 79, 209]   \n",
       "13  [99, 128, 144, 115, 123, 116, 65, 193, 79, 180...   \n",
       "14                                           [209, 0]   \n",
       "15                                       [79, 0, 209]   \n",
       "16                        [289, 175, 79, 0, 209, 105]   \n",
       "17  [227, 174, 103, 123, 193, 0, 144, 128, 99, 272...   \n",
       "18                                   [209, 79, 0, 61]   \n",
       "19                                   [79, 61, 0, 209]   \n",
       "\n",
       "    is_eligible_free_shipping  has_min_free_shipping  has_free_shipping  \\\n",
       "0                        True                   True               True   \n",
       "1                        True                   True               True   \n",
       "2                        True                   True               True   \n",
       "3                        True                   True               True   \n",
       "4                        True                   True               True   \n",
       "5                        True                  False               True   \n",
       "6                       False                  False              False   \n",
       "7                        True                   True               True   \n",
       "8                        True                   True               True   \n",
       "9                        True                   True               True   \n",
       "10                       True                  False               True   \n",
       "11                      False                  False              False   \n",
       "12                       True                   True               True   \n",
       "13                       True                   True               True   \n",
       "14                      False                  False              False   \n",
       "15                       True                  False               True   \n",
       "16                       True                   True               True   \n",
       "17                      False                  False              False   \n",
       "18                       True                   True               True   \n",
       "19                       True                   True               True   \n",
       "\n",
       "    ships_to_regions  \n",
       "0                NaN  \n",
       "1                NaN  \n",
       "2                NaN  \n",
       "3                NaN  \n",
       "4                NaN  \n",
       "5             ['US']  \n",
       "6            ['ANY']  \n",
       "7                NaN  \n",
       "8                NaN  \n",
       "9                NaN  \n",
       "10           ['ANY']  \n",
       "11           ['ANY']  \n",
       "12               NaN  \n",
       "13               NaN  \n",
       "14           ['ANY']  \n",
       "15            ['US']  \n",
       "16               NaN  \n",
       "17           ['ANY']  \n",
       "18           ['ANY']  \n",
       "19               NaN  \n",
       "\n",
       "[20 rows x 26 columns]"
      ]
     },
     "execution_count": 6,
     "metadata": {},
     "output_type": "execute_result"
    }
   ],
   "source": [
    "df.head(20)"
   ]
  },
  {
   "cell_type": "code",
   "execution_count": 7,
   "metadata": {
    "scrolled": true
   },
   "outputs": [
    {
     "data": {
      "text/plain": [
       "(10000, 26)"
      ]
     },
     "execution_count": 7,
     "metadata": {},
     "output_type": "execute_result"
    }
   ],
   "source": [
    "df.shape"
   ]
  },
  {
   "cell_type": "markdown",
   "metadata": {},
   "source": [
    "##### Missing values"
   ]
  },
  {
   "cell_type": "code",
   "execution_count": 8,
   "metadata": {},
   "outputs": [
    {
     "data": {
      "text/plain": [
       "Unnamed: 0                      0\n",
       "shop_id                         0\n",
       "shop_name                       0\n",
       "url                             0\n",
       "shop_create_date                0\n",
       "month_create                    0\n",
       "year_create                     0\n",
       "shop_update_date                0\n",
       "sold_count                      0\n",
       "additional_customization        0\n",
       "active_listing_count            0\n",
       "city                         1821\n",
       "state                        3556\n",
       "country                         4\n",
       "headline                      494\n",
       "favorites_count                 0\n",
       "average_rating                  0\n",
       "total_rating_count              0\n",
       "average_rating_count            0\n",
       "accepts_direct_checkout         0\n",
       "accepts_paypal                  0\n",
       "ships_to_country_ids            0\n",
       "is_eligible_free_shipping       0\n",
       "has_min_free_shipping           0\n",
       "has_free_shipping               0\n",
       "ships_to_regions             1446\n",
       "dtype: int64"
      ]
     },
     "execution_count": 8,
     "metadata": {},
     "output_type": "execute_result"
    }
   ],
   "source": [
    "# Check for missing values\n",
    "\n",
    "df.isnull().sum()\n",
    "\n",
    "# Some missing values in location and headline but won't be using for this exercise"
   ]
  },
  {
   "cell_type": "markdown",
   "metadata": {},
   "source": [
    "##### Duplicates check"
   ]
  },
  {
   "cell_type": "code",
   "execution_count": 9,
   "metadata": {},
   "outputs": [],
   "source": [
    "dups = df.duplicated()"
   ]
  },
  {
   "cell_type": "code",
   "execution_count": 10,
   "metadata": {},
   "outputs": [
    {
     "data": {
      "text/plain": [
       "(10000,)"
      ]
     },
     "execution_count": 10,
     "metadata": {},
     "output_type": "execute_result"
    }
   ],
   "source": [
    "dups.shape # No dups"
   ]
  },
  {
   "cell_type": "markdown",
   "metadata": {},
   "source": [
    "##### Extreme values checks"
   ]
  },
  {
   "cell_type": "code",
   "execution_count": 15,
   "metadata": {
    "scrolled": true
   },
   "outputs": [
    {
     "name": "stderr",
     "output_type": "stream",
     "text": [
      "C:\\Users\\rstev\\anaconda3\\lib\\site-packages\\seaborn\\distributions.py:2619: FutureWarning: `distplot` is a deprecated function and will be removed in a future version. Please adapt your code to use either `displot` (a figure-level function with similar flexibility) or `histplot` (an axes-level function for histograms).\n",
      "  warnings.warn(msg, FutureWarning)\n"
     ]
    },
    {
     "data": {
      "text/plain": [
       "<AxesSubplot:xlabel='sold_count', ylabel='Density'>"
      ]
     },
     "execution_count": 15,
     "metadata": {},
     "output_type": "execute_result"
    },
    {
     "data": {
      "image/png": "[encoded data removed]",
      "text/plain": [
       "<Figure size 432x288 with 1 Axes>"
      ]
     },
     "metadata": {
      "needs_background": "light"
     },
     "output_type": "display_data"
    }
   ],
   "source": [
    "sns.distplot(df['sold_count'], bins=25) # Shows extreme values\n",
    "\n",
    "# Some of the outliers in the high values may need to be removed, but let's try without doing so first.\n",
    "# The max is much much higher than the mean."
   ]
  },
  {
   "cell_type": "code",
   "execution_count": 16,
   "metadata": {},
   "outputs": [
    {
     "data": {
      "text/plain": [
       "53484.1924"
      ]
     },
     "execution_count": 16,
     "metadata": {},
     "output_type": "execute_result"
    }
   ],
   "source": [
    "df['sold_count'].mean() # Check the mean"
   ]
  },
  {
   "cell_type": "code",
   "execution_count": 17,
   "metadata": {},
   "outputs": [
    {
     "data": {
      "text/plain": [
       "36750.0"
      ]
     },
     "execution_count": 17,
     "metadata": {},
     "output_type": "execute_result"
    }
   ],
   "source": [
    "df['sold_count'].median() # Check the median"
   ]
  },
  {
   "cell_type": "code",
   "execution_count": 18,
   "metadata": {},
   "outputs": [
    {
     "data": {
      "text/plain": [
       "1839198"
      ]
     },
     "execution_count": 18,
     "metadata": {},
     "output_type": "execute_result"
    }
   ],
   "source": [
    "df['sold_count'].max() # Check the max"
   ]
  },
  {
   "cell_type": "code",
   "execution_count": 21,
   "metadata": {},
   "outputs": [
    {
     "name": "stderr",
     "output_type": "stream",
     "text": [
      "C:\\Users\\rstev\\anaconda3\\lib\\site-packages\\seaborn\\distributions.py:2619: FutureWarning: `distplot` is a deprecated function and will be removed in a future version. Please adapt your code to use either `displot` (a figure-level function with similar flexibility) or `histplot` (an axes-level function for histograms).\n",
      "  warnings.warn(msg, FutureWarning)\n"
     ]
    },
    {
     "data": {
      "text/plain": [
       "<AxesSubplot:xlabel='favorites_count', ylabel='Density'>"
      ]
     },
     "execution_count": 21,
     "metadata": {},
     "output_type": "execute_result"
    },
    {
     "data": {
      "image/png": "[encoded data removed]",
      "text/plain": [
       "<Figure size 432x288 with 1 Axes>"
      ]
     },
     "metadata": {
      "needs_background": "light"
     },
     "output_type": "display_data"
    }
   ],
   "source": [
    "sns.distplot(df['favorites_count'], bins=25) # Shows extreme values"
   ]
  },
  {
   "cell_type": "code",
   "execution_count": 22,
   "metadata": {},
   "outputs": [
    {
     "name": "stderr",
     "output_type": "stream",
     "text": [
      "C:\\Users\\rstev\\anaconda3\\lib\\site-packages\\seaborn\\distributions.py:2619: FutureWarning: `distplot` is a deprecated function and will be removed in a future version. Please adapt your code to use either `displot` (a figure-level function with similar flexibility) or `histplot` (an axes-level function for histograms).\n",
      "  warnings.warn(msg, FutureWarning)\n"
     ]
    },
    {
     "data": {
      "text/plain": [
       "<AxesSubplot:xlabel='total_rating_count', ylabel='Density'>"
      ]
     },
     "execution_count": 22,
     "metadata": {},
     "output_type": "execute_result"
    },
    {
     "data": {
      "image/png": "[encoded data removed]",
      "text/plain": [
       "<Figure size 432x288 with 1 Axes>"
      ]
     },
     "metadata": {
      "needs_background": "light"
     },
     "output_type": "display_data"
    }
   ],
   "source": [
    "sns.distplot(df['total_rating_count'], bins=25) # Shows extreme values"
   ]
  },
  {
   "cell_type": "markdown",
   "metadata": {},
   "source": [
    "### 3. Data prep for regression analysis "
   ]
  },
  {
   "cell_type": "code",
   "execution_count": 24,
   "metadata": {
    "scrolled": true
   },
   "outputs": [
    {
     "data": {
      "image/png": "[encoded data removed]",
      "text/plain": [
       "<Figure size 432x288 with 1 Axes>"
      ]
     },
     "metadata": {
      "needs_background": "light"
     },
     "output_type": "display_data"
    }
   ],
   "source": [
    "# Create a scatterplot using matplotlib for another look at how the chosen variables plot against each other.\n",
    "\n",
    "df.plot(x = 'total_rating_count', y='sold_count',style='o') # The style option creates a scatterplot; without it, we only have lines.\n",
    "plt.title('Number ratings X Number units sold')  \n",
    "plt.xlabel('Total ratings')  \n",
    "plt.ylabel('Units sold')  \n",
    "plt.show()"
   ]
  },
  {
   "cell_type": "markdown",
   "metadata": {},
   "source": [
    "### 6.4 Answer #5. Hypothesis: The more ratings an Etsy shop has, the more units they sell."
   ]
  },
  {
   "cell_type": "code",
   "execution_count": 25,
   "metadata": {},
   "outputs": [],
   "source": [
    "# Reshape the variables into NumPy arrays and put them into separate objects.\n",
    "\n",
    "X = df['total_rating_count'].values.reshape(-1,1)\n",
    "y = df['sold_count'].values.reshape(-1,1)"
   ]
  },
  {
   "cell_type": "code",
   "execution_count": 26,
   "metadata": {},
   "outputs": [
    {
     "data": {
      "text/plain": [
       "array([[ 9628],\n",
       "       [ 5470],\n",
       "       [ 4595],\n",
       "       ...,\n",
       "       [14206],\n",
       "       [ 4748],\n",
       "       [ 7920]], dtype=int64)"
      ]
     },
     "execution_count": 26,
     "metadata": {},
     "output_type": "execute_result"
    }
   ],
   "source": [
    "X"
   ]
  },
  {
   "cell_type": "code",
   "execution_count": 27,
   "metadata": {},
   "outputs": [
    {
     "data": {
      "text/plain": [
       "array([[27723],\n",
       "       [39900],\n",
       "       [33696],\n",
       "       ...,\n",
       "       [29698],\n",
       "       [28208],\n",
       "       [24444]], dtype=int64)"
      ]
     },
     "execution_count": 27,
     "metadata": {},
     "output_type": "execute_result"
    }
   ],
   "source": [
    "y"
   ]
  },
  {
   "cell_type": "code",
   "execution_count": 28,
   "metadata": {
    "scrolled": true
   },
   "outputs": [],
   "source": [
    "# Split data into a training set and a test set.\n",
    "\n",
    "X_train, X_test, y_train, y_test = train_test_split(X, y, test_size=0.3, random_state=0)"
   ]
  },
  {
   "cell_type": "markdown",
   "metadata": {},
   "source": [
    "### 4. Regression analysis"
   ]
  },
  {
   "cell_type": "code",
   "execution_count": 29,
   "metadata": {},
   "outputs": [],
   "source": [
    "# Create a regression object.\n",
    "\n",
    "regression = LinearRegression()  # This is the regression object, which will be fit onto the training set."
   ]
  },
  {
   "cell_type": "code",
   "execution_count": 30,
   "metadata": {},
   "outputs": [
    {
     "data": {
      "text/plain": [
       "LinearRegression()"
      ]
     },
     "execution_count": 30,
     "metadata": {},
     "output_type": "execute_result"
    }
   ],
   "source": [
    "# Fit the regression object onto the training set.\n",
    "\n",
    "regression.fit(X_train, y_train)"
   ]
  },
  {
   "cell_type": "code",
   "execution_count": 31,
   "metadata": {},
   "outputs": [],
   "source": [
    "# Predict the values of y using X.\n",
    "\n",
    "y_predicted = regression.predict(X_test)"
   ]
  },
  {
   "cell_type": "code",
   "execution_count": 32,
   "metadata": {},
   "outputs": [
    {
     "data": {
      "image/png": "[encoded data removed]",
      "text/plain": [
       "<Figure size 432x288 with 1 Axes>"
      ]
     },
     "metadata": {
      "needs_background": "light"
     },
     "output_type": "display_data"
    }
   ],
   "source": [
    "# Create a plot that shows the regression line from the model on the test set.\n",
    "\n",
    "plot_test = plt\n",
    "plot_test.scatter(X_test, y_test, color='gray', s = 15)\n",
    "plot_test.plot(X_test, y_predicted, color='red', linewidth =3)\n",
    "plot_test.title('Number ratings X Number units sold (Test set)')\n",
    "plot_test.xlabel('Total ratings')\n",
    "plot_test.ylabel('Units sold')\n",
    "plot_test.show()"
   ]
  },
  {
   "cell_type": "markdown",
   "metadata": {},
   "source": [
    "### 6.4 Answer #10. The regression line does not look like a great fit because there are a number of points quite far from the line. This might be caused by the extreme values shown earlier. It's also likely that other factors play a part here - such as average rating. If a shop has a ton of ratings, but they are all low, that probably doesn't fit the hypothesis."
   ]
  },
  {
   "cell_type": "code",
   "execution_count": 33,
   "metadata": {},
   "outputs": [],
   "source": [
    "# Create objects that contain the model summary statistics.\n",
    "\n",
    "rmse = mean_squared_error(y_test, y_predicted) # This is the mean squared error\n",
    "r2 = r2_score(y_test, y_predicted) # This is the R2 score. "
   ]
  },
  {
   "cell_type": "code",
   "execution_count": 34,
   "metadata": {},
   "outputs": [
    {
     "name": "stdout",
     "output_type": "stream",
     "text": [
      "Slope: [[4.79937753]]\n",
      "Mean squared error:  928325346.2476472\n",
      "R2 score:  0.6573844528611568\n"
     ]
    }
   ],
   "source": [
    "# Print the model summary statistics. This is where you evaluate the performance of the model.\n",
    "\n",
    "print('Slope:' ,regression.coef_)\n",
    "print('Mean squared error: ', rmse)\n",
    "print('R2 score: ', r2)"
   ]
  },
  {
   "cell_type": "code",
   "execution_count": 35,
   "metadata": {},
   "outputs": [
    {
     "data": {
      "text/plain": [
       "array([[ 99165.82754333],\n",
       "       [ 24285.93933797],\n",
       "       [ 71598.20301753],\n",
       "       ...,\n",
       "       [168574.42536578],\n",
       "       [128178.06470532],\n",
       "       [ 42216.41378581]])"
      ]
     },
     "execution_count": 35,
     "metadata": {},
     "output_type": "execute_result"
    }
   ],
   "source": [
    "y_predicted"
   ]
  },
  {
   "cell_type": "code",
   "execution_count": 36,
   "metadata": {},
   "outputs": [
    {
     "data": {
      "text/html": [
       "<div>\n",
       "<style scoped>\n",
       "    .dataframe tbody tr th:only-of-type {\n",
       "        vertical-align: middle;\n",
       "    }\n",
       "\n",
       "    .dataframe tbody tr th {\n",
       "        vertical-align: top;\n",
       "    }\n",
       "\n",
       "    .dataframe thead th {\n",
       "        text-align: right;\n",
       "    }\n",
       "</style>\n",
       "<table border=\"1\" class=\"dataframe\">\n",
       "  <thead>\n",
       "    <tr style=\"text-align: right;\">\n",
       "      <th></th>\n",
       "      <th>Actual</th>\n",
       "      <th>Predicted</th>\n",
       "    </tr>\n",
       "  </thead>\n",
       "  <tbody>\n",
       "    <tr>\n",
       "      <th>0</th>\n",
       "      <td>101328</td>\n",
       "      <td>99165.827543</td>\n",
       "    </tr>\n",
       "    <tr>\n",
       "      <th>1</th>\n",
       "      <td>42176</td>\n",
       "      <td>24285.939338</td>\n",
       "    </tr>\n",
       "    <tr>\n",
       "      <th>2</th>\n",
       "      <td>84322</td>\n",
       "      <td>71598.203018</td>\n",
       "    </tr>\n",
       "    <tr>\n",
       "      <th>3</th>\n",
       "      <td>38485</td>\n",
       "      <td>44078.572267</td>\n",
       "    </tr>\n",
       "    <tr>\n",
       "      <th>4</th>\n",
       "      <td>31688</td>\n",
       "      <td>37757.792061</td>\n",
       "    </tr>\n",
       "    <tr>\n",
       "      <th>5</th>\n",
       "      <td>125706</td>\n",
       "      <td>93953.703547</td>\n",
       "    </tr>\n",
       "    <tr>\n",
       "      <th>6</th>\n",
       "      <td>38102</td>\n",
       "      <td>25519.379363</td>\n",
       "    </tr>\n",
       "    <tr>\n",
       "      <th>7</th>\n",
       "      <td>33028</td>\n",
       "      <td>33111.994614</td>\n",
       "    </tr>\n",
       "    <tr>\n",
       "      <th>8</th>\n",
       "      <td>28112</td>\n",
       "      <td>24295.538093</td>\n",
       "    </tr>\n",
       "    <tr>\n",
       "      <th>9</th>\n",
       "      <td>39401</td>\n",
       "      <td>39087.219637</td>\n",
       "    </tr>\n",
       "    <tr>\n",
       "      <th>10</th>\n",
       "      <td>35935</td>\n",
       "      <td>25874.533300</td>\n",
       "    </tr>\n",
       "    <tr>\n",
       "      <th>11</th>\n",
       "      <td>29615</td>\n",
       "      <td>26580.041797</td>\n",
       "    </tr>\n",
       "    <tr>\n",
       "      <th>12</th>\n",
       "      <td>45823</td>\n",
       "      <td>63890.402706</td>\n",
       "    </tr>\n",
       "    <tr>\n",
       "      <th>13</th>\n",
       "      <td>39363</td>\n",
       "      <td>43137.894271</td>\n",
       "    </tr>\n",
       "    <tr>\n",
       "      <th>14</th>\n",
       "      <td>23820</td>\n",
       "      <td>35674.862214</td>\n",
       "    </tr>\n",
       "    <tr>\n",
       "      <th>15</th>\n",
       "      <td>48598</td>\n",
       "      <td>89207.119171</td>\n",
       "    </tr>\n",
       "    <tr>\n",
       "      <th>16</th>\n",
       "      <td>26112</td>\n",
       "      <td>33049.602706</td>\n",
       "    </tr>\n",
       "    <tr>\n",
       "      <th>17</th>\n",
       "      <td>30213</td>\n",
       "      <td>34700.588576</td>\n",
       "    </tr>\n",
       "    <tr>\n",
       "      <th>18</th>\n",
       "      <td>28173</td>\n",
       "      <td>55875.442233</td>\n",
       "    </tr>\n",
       "    <tr>\n",
       "      <th>19</th>\n",
       "      <td>62724</td>\n",
       "      <td>110218.793992</td>\n",
       "    </tr>\n",
       "    <tr>\n",
       "      <th>20</th>\n",
       "      <td>25267</td>\n",
       "      <td>34081.468874</td>\n",
       "    </tr>\n",
       "    <tr>\n",
       "      <th>21</th>\n",
       "      <td>25388</td>\n",
       "      <td>29445.270181</td>\n",
       "    </tr>\n",
       "    <tr>\n",
       "      <th>22</th>\n",
       "      <td>22772</td>\n",
       "      <td>38948.037689</td>\n",
       "    </tr>\n",
       "    <tr>\n",
       "      <th>23</th>\n",
       "      <td>52831</td>\n",
       "      <td>43128.295516</td>\n",
       "    </tr>\n",
       "    <tr>\n",
       "      <th>24</th>\n",
       "      <td>28866</td>\n",
       "      <td>54781.184156</td>\n",
       "    </tr>\n",
       "    <tr>\n",
       "      <th>25</th>\n",
       "      <td>28272</td>\n",
       "      <td>33443.151663</td>\n",
       "    </tr>\n",
       "    <tr>\n",
       "      <th>26</th>\n",
       "      <td>42695</td>\n",
       "      <td>20432.039182</td>\n",
       "    </tr>\n",
       "    <tr>\n",
       "      <th>27</th>\n",
       "      <td>40957</td>\n",
       "      <td>62968.922221</td>\n",
       "    </tr>\n",
       "    <tr>\n",
       "      <th>28</th>\n",
       "      <td>26264</td>\n",
       "      <td>26277.681012</td>\n",
       "    </tr>\n",
       "    <tr>\n",
       "      <th>29</th>\n",
       "      <td>46373</td>\n",
       "      <td>73983.493649</td>\n",
       "    </tr>\n",
       "  </tbody>\n",
       "</table>\n",
       "</div>"
      ],
      "text/plain": [
       "    Actual      Predicted\n",
       "0   101328   99165.827543\n",
       "1    42176   24285.939338\n",
       "2    84322   71598.203018\n",
       "3    38485   44078.572267\n",
       "4    31688   37757.792061\n",
       "5   125706   93953.703547\n",
       "6    38102   25519.379363\n",
       "7    33028   33111.994614\n",
       "8    28112   24295.538093\n",
       "9    39401   39087.219637\n",
       "10   35935   25874.533300\n",
       "11   29615   26580.041797\n",
       "12   45823   63890.402706\n",
       "13   39363   43137.894271\n",
       "14   23820   35674.862214\n",
       "15   48598   89207.119171\n",
       "16   26112   33049.602706\n",
       "17   30213   34700.588576\n",
       "18   28173   55875.442233\n",
       "19   62724  110218.793992\n",
       "20   25267   34081.468874\n",
       "21   25388   29445.270181\n",
       "22   22772   38948.037689\n",
       "23   52831   43128.295516\n",
       "24   28866   54781.184156\n",
       "25   28272   33443.151663\n",
       "26   42695   20432.039182\n",
       "27   40957   62968.922221\n",
       "28   26264   26277.681012\n",
       "29   46373   73983.493649"
      ]
     },
     "execution_count": 36,
     "metadata": {},
     "output_type": "execute_result"
    }
   ],
   "source": [
    "# Create a dataframe comparing the actual and predicted values of y.\n",
    "\n",
    "data = pd.DataFrame({'Actual': y_test.flatten(), 'Predicted': y_predicted.flatten()})\n",
    "data.head(30)"
   ]
  },
  {
   "cell_type": "markdown",
   "metadata": {},
   "source": [
    "### 6.4 Answer #13. Though the R2 score is pretty good at .657, the mean squared error is very large and the predicted y values are quite far off from the actual scores. It might be worthwhile to run this model with outliers excluded, but will compare how the regression fits the training set first. I think there are other factors that need to be considered and total number of ratings cannot be the sole predictor of units sold."
   ]
  },
  {
   "cell_type": "markdown",
   "metadata": {},
   "source": [
    "##### Compare how the regression fits the training set"
   ]
  },
  {
   "cell_type": "code",
   "execution_count": 37,
   "metadata": {},
   "outputs": [],
   "source": [
    "# Predict.\n",
    "\n",
    "y_predicted_train = regression.predict(X_train) # This is predicting X_train!"
   ]
  },
  {
   "cell_type": "code",
   "execution_count": 38,
   "metadata": {},
   "outputs": [],
   "source": [
    "rmse = mean_squared_error(y_train, y_predicted_train)\n",
    "r2 = r2_score(y_train, y_predicted_train)"
   ]
  },
  {
   "cell_type": "code",
   "execution_count": 39,
   "metadata": {},
   "outputs": [
    {
     "name": "stdout",
     "output_type": "stream",
     "text": [
      "Slope: [[4.79937753]]\n",
      "Mean squared error:  1288418866.6505811\n",
      "R2 score:  0.7043116677748347\n"
     ]
    }
   ],
   "source": [
    "print('Slope:' ,regression.coef_)\n",
    "print('Mean squared error: ', rmse)\n",
    "print('R2 score: ', r2)"
   ]
  },
  {
   "cell_type": "code",
   "execution_count": 40,
   "metadata": {
    "scrolled": true
   },
   "outputs": [
    {
     "data": {
      "image/png": "[encoded data removed]",
      "text/plain": [
       "<Figure size 432x288 with 1 Axes>"
      ]
     },
     "metadata": {
      "needs_background": "light"
     },
     "output_type": "display_data"
    }
   ],
   "source": [
    "# Visualizing the training set results.\n",
    "\n",
    "plot_test = plt\n",
    "plot_test.scatter(X_train, y_train, color='green', s = 15)\n",
    "plot_test.plot(X_train, y_predicted_train, color='red', linewidth =3)\n",
    "plot_test.title('Number ratings X Number units sold (Test set)')\n",
    "plot_test.xlabel('Total ratings')\n",
    "plot_test.ylabel('Units sold')\n",
    "plot_test.show()"
   ]
  },
  {
   "cell_type": "markdown",
   "metadata": {},
   "source": [
    "### Performance improvement after removing outliers"
   ]
  },
  {
   "cell_type": "code",
   "execution_count": 41,
   "metadata": {},
   "outputs": [],
   "source": [
    "# Clean the extreme values from the \"sold_count\" variable observed during the consistency checks.\n",
    "\n",
    "df_test = df[df['sold_count'] <=185000] "
   ]
  },
  {
   "cell_type": "code",
   "execution_count": 42,
   "metadata": {},
   "outputs": [
    {
     "data": {
      "image/png": "[encoded data removed]",
      "text/plain": [
       "<Figure size 432x288 with 1 Axes>"
      ]
     },
     "metadata": {
      "needs_background": "light"
     },
     "output_type": "display_data"
    }
   ],
   "source": [
    "# See how the scatterplot looks without outliers.\n",
    "\n",
    "df_test.plot(x = 'total_rating_count', y='sold_count',style='o') \n",
    "plt.title('Number ratings X Number units sold')  \n",
    "plt.xlabel('Total ratings')  \n",
    "plt.ylabel('Units sold')  \n",
    "plt.show()"
   ]
  },
  {
   "cell_type": "code",
   "execution_count": 43,
   "metadata": {},
   "outputs": [],
   "source": [
    "# Reshape again.\n",
    "\n",
    "X_2 = df_test['total_rating_count'].values.reshape(-1,1)\n",
    "y_2 = df_test['sold_count'].values.reshape(-1,1)"
   ]
  },
  {
   "cell_type": "code",
   "execution_count": 44,
   "metadata": {
    "scrolled": true
   },
   "outputs": [],
   "source": [
    "X_train_2, X_test_2, y_train_2, y_test_2 = train_test_split(X_2, y_2, test_size=0.3, random_state=0)"
   ]
  },
  {
   "cell_type": "code",
   "execution_count": 45,
   "metadata": {},
   "outputs": [
    {
     "data": {
      "text/plain": [
       "LinearRegression()"
      ]
     },
     "execution_count": 45,
     "metadata": {},
     "output_type": "execute_result"
    }
   ],
   "source": [
    "# Run and fit the regression.\n",
    "\n",
    "regression = LinearRegression()  \n",
    "regression.fit(X_train_2, y_train_2)"
   ]
  },
  {
   "cell_type": "code",
   "execution_count": 46,
   "metadata": {},
   "outputs": [],
   "source": [
    "# Predict.\n",
    "\n",
    "y_predicted_2 = regression.predict(X_test_2)"
   ]
  },
  {
   "cell_type": "code",
   "execution_count": 47,
   "metadata": {},
   "outputs": [],
   "source": [
    "rmse = mean_squared_error(y_test_2, y_predicted_2)\n",
    "r2 = r2_score(y_test_2, y_predicted_2)"
   ]
  },
  {
   "cell_type": "code",
   "execution_count": 48,
   "metadata": {},
   "outputs": [
    {
     "name": "stdout",
     "output_type": "stream",
     "text": [
      "Slope: [[3.29080339]]\n",
      "Mean squared error:  360021634.3117875\n",
      "R2 score:  0.5207427892579906\n"
     ]
    }
   ],
   "source": [
    "print('Slope:' ,regression.coef_)\n",
    "print('Mean squared error: ', rmse)\n",
    "print('R2 score: ', r2)"
   ]
  },
  {
   "cell_type": "code",
   "execution_count": 49,
   "metadata": {
    "scrolled": true
   },
   "outputs": [
    {
     "data": {
      "image/png": "[encoded data removed]",
      "text/plain": [
       "<Figure size 432x288 with 1 Axes>"
      ]
     },
     "metadata": {
      "needs_background": "light"
     },
     "output_type": "display_data"
    }
   ],
   "source": [
    "# Visualizing the test set results.\n",
    "plot_test = plt\n",
    "plot_test.scatter(X_test, y_test, color='gray', s = 15)\n",
    "plot_test.plot(X_train, regression.predict(X_train), color='red', linewidth =3)\n",
    "plot_test.title('Number ratings X Number units sold (Test set)')\n",
    "plot_test.xlabel('Total ratings')\n",
    "plot_test.ylabel('Units sold')\n",
    "plot_test.show()"
   ]
  }
 ],
 "metadata": {
  "kernelspec": {
   "display_name": "Python 3 (ipykernel)",
   "language": "python",
   "name": "python3"
  },
  "language_info": {
   "codemirror_mode": {
    "name": "ipython",
    "version": 3
   },
   "file_extension": ".py",
   "mimetype": "text/x-python",
   "name": "python",
   "nbconvert_exporter": "python",
   "pygments_lexer": "ipython3",
   "version": "3.9.7"
  }
 },
 "nbformat": 4,
 "nbformat_minor": 4
}
